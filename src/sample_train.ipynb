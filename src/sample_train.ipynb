{
 "cells": [
  {
   "cell_type": "markdown",
   "metadata": {
    "id": "kmIOkV65f5S0"
   },
   "source": [
    "### Import Packages\n"
   ]
  },
  {
   "cell_type": "code",
   "execution_count": 1,
   "metadata": {
    "colab": {
     "base_uri": "https://localhost:8080/"
    },
    "id": "X1f7bWu9lJtX",
    "outputId": "76c92540-8bd1-427d-f834-532f98c7ec0a"
   },
   "outputs": [
    {
     "name": "stdout",
     "output_type": "stream",
     "text": [
      "1.10.0+cu111\n"
     ]
    }
   ],
   "source": [
    "import os\n",
    "import csv\n",
    "import numpy as np\n",
    "from tqdm.notebook import tqdm\n",
    "from collections import OrderedDict\n",
    "\n",
    "\n",
    "import matplotlib.pyplot as plt\n",
    "# Module for Google Drivefrom google.colab import drive\n",
    "\n",
    "# Module for Importing Images\n",
    "from PIL import Image\n",
    "\n",
    "import torch\n",
    "import torchvision\n",
    "import torch.nn as nn\n",
    "import torch.nn.functional as F\n",
    "import torch.optim as optim\n",
    "from torch.utils.data import Dataset, DataLoader\n",
    "\n",
    "print(torch.__version__)"
   ]
  },
  {
   "cell_type": "code",
   "execution_count": 29,
   "metadata": {},
   "outputs": [
    {
     "name": "stdout",
     "output_type": "stream",
     "text": [
      "WARNING: pip is being invoked by an old script wrapper. This will fail in a future version of pip.\n",
      "Please see https://github.com/pypa/pip/issues/5599 for advice on fixing the underlying issue.\n",
      "To avoid this problem you can invoke Python with '-m pip' instead of running pip directly.\n",
      "Package               Version\n",
      "--------------------- -------------------\n",
      "asn1crypto            0.24.0\n",
      "attrs                 17.4.0\n",
      "Automat               0.6.0\n",
      "bleach                2.1.2\n",
      "blinker               1.4\n",
      "boto                  2.44.0\n",
      "certifi               2018.1.18\n",
      "chardet               3.0.4\n",
      "click                 6.7\n",
      "cloud-init            18.2\n",
      "colorama              0.3.7\n",
      "command-not-found     0.3\n",
      "configobj             5.0.6\n",
      "constantly            15.1.0\n",
      "cryptography          2.1.4\n",
      "cycler                0.11.0\n",
      "dataclasses           0.8\n",
      "decorator             4.1.2\n",
      "distro-info           0.18ubuntu0.18.04.1\n",
      "entrypoints           0.2.3.post1\n",
      "google-compute-engine 2.7.5\n",
      "html5lib              0.999999999\n",
      "httplib2              0.9.2\n",
      "hyperlink             17.3.1\n",
      "idna                  2.6\n",
      "incremental           16.10.1\n",
      "ipykernel             5.5.6\n",
      "ipython               5.5.0\n",
      "ipython_genutils      0.2.0\n",
      "ipywidgets            6.0.0\n",
      "Jinja2                2.10\n",
      "jsonpatch             1.16\n",
      "jsonpointer           1.10\n",
      "jsonschema            2.6.0\n",
      "jupyter-client        5.2.2\n",
      "jupyter-core          4.4.0\n",
      "keyring               10.6.0\n",
      "keyrings.alt          3.0\n",
      "kiwisolver            1.3.1\n",
      "language-selector     0.1\n",
      "MarkupSafe            1.0\n",
      "matplotlib            3.3.4\n",
      "mistune               0.8.3\n",
      "nbconvert             5.3.1\n",
      "nbformat              4.4.0\n",
      "notebook              5.2.2\n",
      "numpy                 1.19.5\n",
      "oauthlib              2.0.6\n",
      "PAM                   0.4.2\n",
      "pandas                1.1.5\n",
      "pandocfilters         1.4.2\n",
      "pexpect               4.2.1\n",
      "pickleshare           0.7.4\n",
      "Pillow                8.4.0\n",
      "pip                   21.3.1\n",
      "prompt-toolkit        1.0.15\n",
      "pyasn1                0.4.2\n",
      "pyasn1-modules        0.2.1\n",
      "pycrypto              2.6.1\n",
      "Pygments              2.2.0\n",
      "PyGObject             3.26.1\n",
      "PyJWT                 1.5.3\n",
      "pyOpenSSL             17.5.0\n",
      "pyparsing             3.0.6\n",
      "pyserial              3.4\n",
      "python-apt            1.6.5+ubuntu0.7\n",
      "python-dateutil       2.8.2\n",
      "python-debian         0.1.32\n",
      "pytz                  2021.3\n",
      "pyxdg                 0.25\n",
      "PyYAML                3.12\n",
      "pyzmq                 16.0.2\n",
      "requests              2.18.4\n",
      "requests-unixsocket   0.1.5\n",
      "SecretStorage         2.3.1\n",
      "service-identity      16.0.0\n",
      "setuptools            39.0.1\n",
      "simplegeneric         0.8.1\n",
      "six                   1.11.0\n",
      "sos                   4.1\n",
      "ssh-import-id         5.7\n",
      "systemd-python        234\n",
      "terminado             0.7\n",
      "testpath              0.3.1\n",
      "torch                 1.9.0\n",
      "torchvision           0.10.0\n",
      "tornado               4.5.3\n",
      "tqdm                  4.40.0\n",
      "traitlets             4.3.2\n",
      "Twisted               17.9.0\n",
      "typing_extensions     4.0.1\n",
      "ubuntu-drivers-common 0.0.0\n",
      "ufw                   0.36\n",
      "unattended-upgrades   0.1\n",
      "urllib3               1.22\n",
      "wcwidth               0.1.7\n",
      "webencodings          0.5\n",
      "wheel                 0.30.0\n",
      "widgetsnbextension    2.0.1\n",
      "xkit                  0.0.0\n",
      "zope.interface        4.3.2\n"
     ]
    }
   ],
   "source": [
    "!pip3 list\n"
   ]
  },
  {
   "cell_type": "code",
   "execution_count": 2,
   "metadata": {},
   "outputs": [
    {
     "data": {
      "text/plain": [
       "True"
      ]
     },
     "execution_count": 2,
     "metadata": {},
     "output_type": "execute_result"
    }
   ],
   "source": [
    "torch.cuda.is_available()"
   ]
  },
  {
   "cell_type": "markdown",
   "metadata": {
    "id": "kA3MZRzNHclY"
   },
   "source": [
    "### Import your drive's contents!"
   ]
  },
  {
   "cell_type": "code",
   "execution_count": null,
   "metadata": {
    "colab": {
     "base_uri": "https://localhost:8080/"
    },
    "id": "JXPZ3dc6W3kp",
    "outputId": "b16afed3-5765-4913-9b12-32069fe7b4d6"
   },
   "outputs": [
    {
     "name": "stdout",
     "output_type": "stream",
     "text": [
      "Mounted at /content/drive\n"
     ]
    }
   ],
   "source": [
    "#drive.mount('/content/drive')"
   ]
  },
  {
   "cell_type": "markdown",
   "metadata": {
    "id": "TTj1RldNHgSQ"
   },
   "source": [
    "### Let's define some path, and our PokeMon dataset\n",
    "- Put the \"pokemon\" folder to somewhere of your Google Drive, and define the train/test path to \"train_path\" and \"test_path\"\n",
    "- To 'model_dir', put the drive's directory path that you want to save your model"
   ]
  },
  {
   "cell_type": "code",
   "execution_count": 63,
   "metadata": {
    "id": "pcMuF_m9Ev8W"
   },
   "outputs": [],
   "source": [
    "train_path = '/home/weixing/pokemon/data/pokemon-extend/train' \n",
    "val_path = '/home/weixing/pokemon/data/pokemon-extend/test'\n",
    "model_dir = '/home/weixing/pokemon/models'    #./drive/MyDrive/Path/To/Save/Your/Model\n",
    "classes = ['bug', 'electric', 'fighting', 'fire', 'flying', 'grass', 'ground', 'phychic', 'poison', 'water']"
   ]
  },
  {
   "cell_type": "code",
   "execution_count": 64,
   "metadata": {
    "id": "NFxwfpOxHcAk"
   },
   "outputs": [],
   "source": [
    "class PokemonDataset(Dataset):\n",
    "    def __init__(self, data_path, classes):\n",
    "        self.data_path = data_path\n",
    "        self.classes = classes\n",
    "\n",
    "        # organize path information for __len__ and __getitem__\n",
    "        self.img_path_label = list()\n",
    "        for c in self.classes:\n",
    "            img_list = os.listdir(os.path.join(self.data_path, c))\n",
    "            for fp in img_list:\n",
    "                full_fp = os.path.join(self.data_path, c, fp)\n",
    "                self.img_path_label.append((full_fp, c, self.classes.index(c)))\n",
    "\n",
    "        # Add some tranforms for data augmentation.\n",
    "        self.tensor_transform = torchvision.transforms.ToTensor()\n",
    "        self.preprocess = torchvision.transforms.Compose([\n",
    "                torchvision.transforms.Resize((244,224)),\n",
    "                torchvision.transforms.CenterCrop((224,224)),\n",
    "                torchvision.transforms.ToTensor(),\n",
    "                torchvision.transforms.Normalize(mean=[0.485, 0.456, 0.406], std=[0.229, 0.224, 0.225]),\n",
    "            ])\n",
    "\n",
    "    def __len__(self):\n",
    "        return len(self.img_path_label)\n",
    "\n",
    "    def __getitem__(self, idx):\n",
    "        (fp, class_name, class_label) = self.img_path_label[idx]\n",
    "        # make sure all images have 3 layers\n",
    "        img = Image.open(fp).convert('RGB')\n",
    "        # torchvision.transform.Resize does not work for some reason\n",
    "        img = img.resize((224,224))\n",
    "        original_img = self.tensor_transform(img)\n",
    "        input_img = self.preprocess(img)\n",
    "\n",
    "        sample = dict()\n",
    "        sample['input'] = input_img\n",
    "        sample['original_img'] = original_img\n",
    "        sample['target'] = class_label\n",
    "        sample['class_name'] = class_name\n",
    "\n",
    "        return sample"
   ]
  },
  {
   "cell_type": "markdown",
   "metadata": {
    "id": "UPFSRXfal8Dl"
   },
   "source": [
    "### Set DataSet and DataLoader"
   ]
  },
  {
   "cell_type": "code",
   "execution_count": 67,
   "metadata": {
    "id": "dJLrwTOxI127"
   },
   "outputs": [],
   "source": [
    "batch_size = 32\n",
    "\n",
    "train_dataset = PokemonDataset(train_path, classes)\n",
    "train_dataloader = DataLoader(train_dataset, batch_size=batch_size, shuffle=True)\n",
    "val_dataset = PokemonDataset(val_path, classes)\n",
    "val_dataloader = DataLoader(val_dataset, batch_size=batch_size, shuffle=False)\n",
    "\n",
    "num_classes = len(classes)"
   ]
  },
  {
   "cell_type": "markdown",
   "metadata": {
    "id": "S6s35e4ymD-M"
   },
   "source": [
    "### Take a sample and try to look at the one"
   ]
  },
  {
   "cell_type": "code",
   "execution_count": 59,
   "metadata": {
    "id": "pI2z7aqgMcUJ"
   },
   "outputs": [],
   "source": [
    "sample = next(iter(train_dataloader))"
   ]
  },
  {
   "cell_type": "code",
   "execution_count": 60,
   "metadata": {
    "colab": {
     "base_uri": "https://localhost:8080/",
     "height": 274
    },
    "id": "6rsIBq2rIxA_",
    "outputId": "89199c95-e90f-4200-c695-31e84b4c03a9"
   },
   "outputs": [
    {
     "name": "stderr",
     "output_type": "stream",
     "text": [
      "Clipping input data to the valid range for imshow with RGB data ([0..1] for floats or [0..255] for integers).\n",
      "Clipping input data to the valid range for imshow with RGB data ([0..1] for floats or [0..255] for integers).\n",
      "Clipping input data to the valid range for imshow with RGB data ([0..1] for floats or [0..255] for integers).\n",
      "Clipping input data to the valid range for imshow with RGB data ([0..1] for floats or [0..255] for integers).\n",
      "Clipping input data to the valid range for imshow with RGB data ([0..1] for floats or [0..255] for integers).\n",
      "Clipping input data to the valid range for imshow with RGB data ([0..1] for floats or [0..255] for integers).\n",
      "Clipping input data to the valid range for imshow with RGB data ([0..1] for floats or [0..255] for integers).\n"
     ]
    },
    {
     "data": {
      "image/png": "[encoded data removed]",
      "text/plain": [
       "<Figure size 1440x720 with 7 Axes>"
      ]
     },
     "metadata": {
      "needs_background": "light"
     },
     "output_type": "display_data"
    }
   ],
   "source": [
    "fig, ax = plt.subplots(1, 7, figsize=(20, 10))\n",
    "for i in range(7):\n",
    "    ax[i].imshow(sample['input'][i].permute(1, 2, 0))\n",
    "    ax[i].set_title(sample['class_name'][i])"
   ]
  },
  {
   "cell_type": "markdown",
   "metadata": {
    "id": "PYiku-SxHnA6"
   },
   "source": [
    "### Choose your device - use GPU or not?"
   ]
  },
  {
   "cell_type": "code",
   "execution_count": 6,
   "metadata": {
    "colab": {
     "base_uri": "https://localhost:8080/"
    },
    "id": "k44xmCOHHmF4",
    "outputId": "3a82c84d-d34e-46eb-a88e-5f1e7c4abcab"
   },
   "outputs": [
    {
     "name": "stdout",
     "output_type": "stream",
     "text": [
      "Current Device : cuda\n"
     ]
    }
   ],
   "source": [
    "device = 'cpu'\n",
    "if torch.cuda.is_available():\n",
    "    device = 'cuda'\n",
    "print('Current Device : {}'.format(device))"
   ]
  },
  {
   "cell_type": "markdown",
   "metadata": {
    "id": "LEjuX7lWIYlb"
   },
   "source": [
    "### Define the model with the pre-trained ResNet"
   ]
  },
  {
   "cell_type": "code",
   "execution_count": 7,
   "metadata": {},
   "outputs": [],
   "source": [
    "def load_checkpoint(model,filepath):\n",
    "    if os.path.isfile(filepath):\n",
    "        print(\"=> loading checkpoint '{}'\".format(filepath))\n",
    "        checkpoint = torch.load(filepath)\n",
    "        model.load_state_dict(checkpoint['state_dict'])\n",
    "\n",
    "    return model"
   ]
  },
  {
   "cell_type": "code",
   "execution_count": 70,
   "metadata": {
    "id": "Cx-fxCW5JD_w"
   },
   "outputs": [],
   "source": [
    "class Model(nn.Module):\n",
    "    def __init__(self, feat_dim = 2048, output_dim =num_classes,cppath = None):\n",
    "        super(Model, self).__init__()\n",
    "        self.cppath = cppath\n",
    "        self.feat_dim = feat_dim\n",
    "        self.output_dim = output_dim\n",
    "\n",
    "        self.backbone = torchvision.models.__dict__[\"resnet50\"](pretrained=True)\n",
    "        \n",
    "        #\n",
    "        # add dataparallel to resolve state_dict key conflict\n",
    "        #self.backbone = nn.DataParallel(self.backbone, device_ids=[0])\n",
    "        \n",
    "        #alternative: \n",
    "        if self.cppath:\n",
    "            print(\"=> loading checkpoint '{}'\".format(cppath))\n",
    "            checkpoint = torch.load(cppath)\n",
    "            state_dict = OrderedDict()\n",
    "            for key in checkpoint['state_dict'].keys():\n",
    "                state_dict[key[7:]] = checkpoint['state_dict'][key]\n",
    "            self.backbone.load_state_dict(state_dict)\n",
    "        \n",
    "        #I have to train the whole neural net\n",
    "        #for param in self.backbone.parameters():\n",
    "        #    param.requires_grad = False\n",
    "\n",
    "        self.backbone.fc = nn.Linear(feat_dim, output_dim)\n",
    "        #for param in self.backbone.fc.parameters():\n",
    "        #    param.requires_grad =True\n",
    "            \n",
    "    def _load_checkpoint(self,model):\n",
    "        if os.path.isfile(filepath):\n",
    "            print(\"=> loading checkpoint '{}'\".format(filepath))\n",
    "            checkpoint = torch.load(filepath)\n",
    "            model.load_state_dict(checkpoint['state_dict'])\n",
    "\n",
    "        return model\n",
    "\n",
    "    def forward(self, img):\n",
    "        out = self.backbone(img) \n",
    "        return out"
   ]
  },
  {
   "cell_type": "markdown",
   "metadata": {
    "id": "r4hjFl4-IsqO"
   },
   "source": [
    "### Create a model and its optimizer\n"
   ]
  },
  {
   "cell_type": "markdown",
   "metadata": {},
   "source": []
  },
  {
   "cell_type": "code",
   "execution_count": 72,
   "metadata": {
    "id": "ZWtw-y-MKuv1"
   },
   "outputs": [
    {
     "name": "stdout",
     "output_type": "stream",
     "text": [
      "=> loading checkpoint '/home/weixing/pokemon/models/deepaugment_and_augmix.pth.tar'\n"
     ]
    }
   ],
   "source": [
    "# use pretrained model\n",
    "# see https://github.com/hendrycks/imagenet-r\n",
    "\n",
    "model = Model(cppath=\"/home/weixing/pokemon/models/deepaugment_and_augmix.pth.tar\")\n",
    "model = model.to(device)\n",
    "\n",
    "optimizer = optim.NAdam(model.parameters(), lr=1e-3)\n",
    "exp_lr_scheduler = optim.lr_scheduler.StepLR(optimizer, step_size=2, gamma=0.1)"
   ]
  },
  {
   "cell_type": "code",
   "execution_count": 36,
   "metadata": {
    "colab": {
     "base_uri": "https://localhost:8080/"
    },
    "id": "JFVtNhFKuzLB",
    "outputId": "e2bc68ad-3537-4d22-a49e-0f0636d46a40"
   },
   "outputs": [
    {
     "data": {
      "text/plain": [
       "torch.Size([12, 1000])"
      ]
     },
     "execution_count": 36,
     "metadata": {},
     "output_type": "execute_result"
    }
   ],
   "source": [
    "model(sample['input'].to(device)).shape"
   ]
  },
  {
   "cell_type": "markdown",
   "metadata": {
    "id": "DUSpLgVXIwqG"
   },
   "source": [
    "### Define functions for train/test\n",
    "\n"
   ]
  },
  {
   "cell_type": "code",
   "execution_count": 10,
   "metadata": {
    "id": "Q9pXkpAMK42y"
   },
   "outputs": [],
   "source": [
    "def train(model, optimizer, sample):\n",
    "    model.train()\n",
    "\n",
    "    criterion = nn.CrossEntropyLoss()\n",
    "\n",
    "    optimizer.zero_grad()\n",
    "\n",
    "    input = sample['input'].float().to(device)\n",
    "    target = sample['target'].long().to(device) \n",
    "    \n",
    "    pred = model(input)\n",
    "    pred_loss = criterion(pred, target)\n",
    "    \n",
    "    top_val, top_idx = torch.topk(pred, 1)\n",
    "\n",
    "    num_correct = torch.sum(top_idx == target.view(-1, 1))\n",
    "    \n",
    "    pred_loss.backward()\n",
    "       \n",
    "    optimizer.step()\n",
    "\n",
    "    return pred_loss.item(), num_correct.item()"
   ]
  },
  {
   "cell_type": "code",
   "execution_count": 11,
   "metadata": {
    "id": "MhcKwq8WOUGu"
   },
   "outputs": [],
   "source": [
    "def val(model, sample):\n",
    "    model.eval()\n",
    "\n",
    "    criterion = nn.CrossEntropyLoss()\n",
    "\n",
    "    with torch.no_grad():\n",
    "        input = sample['input'].float().to(device)\n",
    "        target = sample['target'].long().to(device) \n",
    "\n",
    "        pred = model(input)\n",
    "        pred_loss = criterion(pred, target)\n",
    "\n",
    "        top_val, top_idx = torch.topk(pred, 1)\n",
    "\n",
    "        num_correct = torch.sum(top_idx == target.view(-1, 1))\n",
    "\n",
    "    return pred_loss.item(), num_correct.item()"
   ]
  },
  {
   "cell_type": "markdown",
   "metadata": {
    "id": "T23Toz8vI7Gu"
   },
   "source": [
    "### Run Training"
   ]
  },
  {
   "cell_type": "code",
   "execution_count": 73,
   "metadata": {
    "colab": {
     "base_uri": "https://localhost:8080/",
     "height": 445,
     "referenced_widgets": [
      "4538250158794e71841b1770624a71d0",
      "b2497004d271463e8440d5cf64de9aaf",
      "a38c6bc7e66f4d2eb92ab718a37ecf58",
      "b087b37fcf3f491f9cb07f1693ca793c",
      "2cb1d32d82814af3bed8c20e14d718b0",
      "ca4d4dc6b28949f7bcc9b47926385166",
      "d4b60d2b7a744481a6b89b5cd52a8b22",
      "c5d0307c57e845e09b1ef3e1fcb0c316",
      "41117e58edc3422d8a33439e6e524415",
      "996af0b0098148ec9e18b6e358201cda",
      "a950e12c51c04d2a83b944bad35c6bf4",
      "d7a9bab4153449c781100b172c3631df",
      "b0dedf44c28d40bfa76ec7e64b932352",
      "e78a5edb637b43b1b18757d29e033bd9",
      "cf4e2ecaf7764e9caffec0282610ed80",
      "d561b62998c64d76b3fecef7fbfc19b9",
      "9431c1b5cb4f4378bcf5da7df4887dca",
      "90768efe57c6457d84a5e0378d2eeed1",
      "059be3a6589d4d2b8b0f804f8ee6061a",
      "e206587edf054702863dcebeb7aa3713",
      "d23b2207b2e740708dad3732cd324899",
      "87a86eb6066542c995a3af259f6046ed"
     ]
    },
    "id": "-kTrpt4YMRS6",
    "outputId": "ff87a275-a9e1-4e8e-9846-8be74403c0a4"
   },
   "outputs": [
    {
     "name": "stdout",
     "output_type": "stream",
     "text": [
      "Epoch 0/9\n",
      "current learning rate:\n",
      "----------\n"
     ]
    },
    {
     "name": "stderr",
     "output_type": "stream",
     "text": [
      "/home/weixing/.local/lib/python3.6/site-packages/torch/optim/lr_scheduler.py:370: UserWarning: To get the last learning rate computed by the scheduler, please use `get_last_lr()`.\n",
      "  \"please use `get_last_lr()`.\", UserWarning)\n",
      "Widget Javascript not detected.  It may not be installed or enabled properly.\n"
     ]
    },
    {
     "data": {
      "application/vnd.jupyter.widget-view+json": {
       "model_id": "3e51d937d2e84a1fb0ad485df66130a3"
      }
     },
     "metadata": {},
     "output_type": "display_data"
    },
    {
     "name": "stdout",
     "output_type": "stream",
     "text": [
      "\n",
      "train_acc:0.719956379498365, val_acc0.4\n",
      "Epoch 1/9\n",
      "current learning rate:\n",
      "----------\n"
     ]
    },
    {
     "name": "stderr",
     "output_type": "stream",
     "text": [
      "Widget Javascript not detected.  It may not be installed or enabled properly.\n"
     ]
    },
    {
     "data": {
      "application/vnd.jupyter.widget-view+json": {
       "model_id": "b1f230784e00461daee8e4020239dbae"
      }
     },
     "metadata": {},
     "output_type": "display_data"
    },
    {
     "name": "stdout",
     "output_type": "stream",
     "text": [
      "\n",
      "train_acc:0.8841875681570346, val_acc0.48333333333333334\n",
      "Epoch 2/9\n",
      "current learning rate:\n",
      "----------\n"
     ]
    },
    {
     "name": "stderr",
     "output_type": "stream",
     "text": [
      "Widget Javascript not detected.  It may not be installed or enabled properly.\n"
     ]
    },
    {
     "data": {
      "application/vnd.jupyter.widget-view+json": {
       "model_id": "4e26e9f3b3494c8a825675f718f51c85"
      }
     },
     "metadata": {},
     "output_type": "display_data"
    },
    {
     "name": "stdout",
     "output_type": "stream",
     "text": [
      "\n",
      "train_acc:0.959651035986913, val_acc0.8500000000000001\n",
      "Epoch 3/9\n",
      "current learning rate:\n",
      "----------\n"
     ]
    },
    {
     "name": "stderr",
     "output_type": "stream",
     "text": [
      "Widget Javascript not detected.  It may not be installed or enabled properly.\n"
     ]
    },
    {
     "data": {
      "application/vnd.jupyter.widget-view+json": {
       "model_id": "cfa4da2f04c74dbf81bf6f3873bd8fc0"
      }
     },
     "metadata": {},
     "output_type": "display_data"
    },
    {
     "name": "stdout",
     "output_type": "stream",
     "text": [
      "\n",
      "train_acc:0.9901853871319515, val_acc0.9\n",
      "Epoch 4/9\n",
      "current learning rate:\n",
      "----------\n"
     ]
    },
    {
     "name": "stderr",
     "output_type": "stream",
     "text": [
      "Widget Javascript not detected.  It may not be installed or enabled properly.\n"
     ]
    },
    {
     "data": {
      "application/vnd.jupyter.widget-view+json": {
       "model_id": "14c16851a0324440a55bac2637cb8b9e"
      }
     },
     "metadata": {},
     "output_type": "display_data"
    },
    {
     "name": "stdout",
     "output_type": "stream",
     "text": [
      "\n",
      "train_acc:0.9949836423118863, val_acc0.8833333333333333\n",
      "Epoch 5/9\n",
      "current learning rate:\n",
      "----------\n"
     ]
    },
    {
     "name": "stderr",
     "output_type": "stream",
     "text": [
      "Widget Javascript not detected.  It may not be installed or enabled properly.\n"
     ]
    },
    {
     "data": {
      "application/vnd.jupyter.widget-view+json": {
       "model_id": "ce94dc9dd18747b2855c0fe8c1167343"
      }
     },
     "metadata": {},
     "output_type": "display_data"
    },
    {
     "name": "stdout",
     "output_type": "stream",
     "text": [
      "\n",
      "train_acc:0.9958560523446018, val_acc0.9\n",
      "Epoch 6/9\n",
      "current learning rate:\n",
      "----------\n"
     ]
    },
    {
     "name": "stderr",
     "output_type": "stream",
     "text": [
      "Widget Javascript not detected.  It may not be installed or enabled properly.\n"
     ]
    },
    {
     "data": {
      "application/vnd.jupyter.widget-view+json": {
       "model_id": "7e3022952c034f399025596030721e08"
      }
     },
     "metadata": {},
     "output_type": "display_data"
    },
    {
     "name": "stdout",
     "output_type": "stream",
     "text": [
      "\n",
      "train_acc:0.9971646673936747, val_acc0.8666666666666667\n",
      "Epoch 7/9\n",
      "current learning rate:\n",
      "----------\n"
     ]
    },
    {
     "name": "stderr",
     "output_type": "stream",
     "text": [
      "Widget Javascript not detected.  It may not be installed or enabled properly.\n"
     ]
    },
    {
     "data": {
      "application/vnd.jupyter.widget-view+json": {
       "model_id": "44e617cbe10340a0939ac3f2a742982a"
      }
     },
     "metadata": {},
     "output_type": "display_data"
    },
    {
     "name": "stdout",
     "output_type": "stream",
     "text": [
      "\n",
      "train_acc:0.9958560523446018, val_acc0.8500000000000001\n",
      "Epoch 8/9\n",
      "current learning rate:\n",
      "----------\n"
     ]
    },
    {
     "name": "stderr",
     "output_type": "stream",
     "text": [
      "Widget Javascript not detected.  It may not be installed or enabled properly.\n"
     ]
    },
    {
     "data": {
      "application/vnd.jupyter.widget-view+json": {
       "model_id": "4ac30f61bc824a67b6d4a3fba5f8e26a"
      }
     },
     "metadata": {},
     "output_type": "display_data"
    },
    {
     "name": "stdout",
     "output_type": "stream",
     "text": [
      "\n",
      "train_acc:0.9956379498364227, val_acc0.8833333333333333\n",
      "Epoch 9/9\n",
      "current learning rate:\n",
      "----------\n"
     ]
    },
    {
     "name": "stderr",
     "output_type": "stream",
     "text": [
      "Widget Javascript not detected.  It may not be installed or enabled properly.\n"
     ]
    },
    {
     "data": {
      "application/vnd.jupyter.widget-view+json": {
       "model_id": "2763415b999c4443bc42b9d80a2c8354"
      }
     },
     "metadata": {},
     "output_type": "display_data"
    },
    {
     "name": "stdout",
     "output_type": "stream",
     "text": [
      "\n",
      "train_acc:0.9956379498364228, val_acc0.8833333333333333\n"
     ]
    }
   ],
   "source": [
    "max_epoch = 10\n",
    "save_stride = 5\n",
    "tmp_path = './checkpoint.pth'\n",
    "max_accu = -1\n",
    "#create checkpoint folder\n",
    "from datetime import datetime\n",
    "today = datetime.now()\n",
    "checkpoint_path =os.path.join(model_dir,today.strftime('%Y%m%d'))\n",
    "from pathlib import Path\n",
    "Path(checkpoint_path).mkdir(parents=True, exist_ok=True)\n",
    "\n",
    "p_train_loss = []\n",
    "p_train_acc = []\n",
    "p_val_loss = []\n",
    "p_val_loss = []\n",
    "\n",
    "\n",
    "\n",
    "for epoch in range(max_epoch):        \n",
    "    ###Train Phase\n",
    "    print('Epoch {}/{}'.format(epoch, max_epoch - 1))\n",
    "    print('current learning rate:'.format(exp_lr_scheduler.get_lr()))\n",
    "    print('-' * 10)\n",
    "    \n",
    "    # Initialize Loss and Accuracy\n",
    "    train_loss = 0.0\n",
    "    train_accu = 0.0\n",
    "    \n",
    "\n",
    "    # Load the saved MODEL AND OPTIMIZER after evaluation.\n",
    "    if epoch > 0:\n",
    "        checkpoint = torch.load(tmp_path)\n",
    "        model.load_state_dict(checkpoint['model_state_dict'])\n",
    "        optimizer.load_state_dict(checkpoint['optimizer_state_dict'])\n",
    "        # how about learning rate scheduler?\n",
    "\n",
    "    # Iterate over the train_dataloader\n",
    "    with tqdm(total=len(train_dataloader)) as pbar:\n",
    "        for idx, sample in enumerate(train_dataloader):\n",
    "            curr_loss, num_correct = train(model, optimizer, sample)\n",
    "            train_loss += curr_loss / len(train_dataloader)\n",
    "            train_accu += num_correct / len(train_dataset)\n",
    "            pbar.update(1)\n",
    "    #schedule training lr\n",
    "    exp_lr_scheduler.step()\n",
    "\n",
    "    # save the model and optimizer's information before the evaulation\n",
    "    checkpoint = {\n",
    "        'model' : Model(),\n",
    "        'model_state_dict': model.state_dict(),\n",
    "        'optimizer_state_dict': optimizer.state_dict(),\n",
    "    }\n",
    "    \n",
    "    # Save the checkpoint - you can try to save the \"best\" model with the validation accuracy/loss\n",
    "    torch.save(checkpoint, tmp_path)\n",
    "    if (epoch+1) % save_stride == 0:\n",
    "        torch.save(checkpoint, os.path.join(checkpoint_path, 'pokemon_r50_{}.pth'.format(epoch+1)))\n",
    "    torch.save(checkpoint, os.path.join(checkpoint_path, 'pokemon_r50_recent.pth'))\n",
    "    \n",
    "    ### Test Phase\n",
    "    # Initialize Loss and Accuracy\n",
    "    test_loss = 0.0\n",
    "    test_accu = 0.0\n",
    "\n",
    "    # Iterate over the test_dataloader\n",
    "    for idx, sample in enumerate(val_dataloader):\n",
    "        curr_loss, num_correct = val(model, sample)\n",
    "        test_loss += curr_loss / len(val_dataloader)\n",
    "        test_accu += num_correct / len(val_dataset)\n",
    "\n",
    "\n",
    "    max_accu = max(test_accu, max_accu)\n",
    "    if max_accu == test_accu:\n",
    "        # Save your best model to the checkpoint\n",
    "        torch.save(checkpoint, os.path.join(checkpoint_path, 'pokemon_r50_best.pth'))\n",
    "\n",
    "    print(\"train_acc:{}, val_acc{}\".format(train_accu, test_accu))\n",
    "    "
   ]
  },
  {
   "cell_type": "code",
   "execution_count": null,
   "metadata": {
    "id": "5hPiA_pBdJk1"
   },
   "outputs": [],
   "source": []
  },
  {
   "cell_type": "markdown",
   "metadata": {
    "id": "dOeYopHTkhvJ"
   },
   "source": [
    "# Test"
   ]
  },
  {
   "cell_type": "code",
   "execution_count": 86,
   "metadata": {},
   "outputs": [],
   "source": [
    "checkpoint_path = '/home/weixing/pokemon/models/20211216'\n",
    "test_model_path = os.path.join(checkpoint_path,'pokemon_r50_best.pth')\n",
    "test_path = '/home/weixing/pokemon/data/test'\n"
   ]
  },
  {
   "cell_type": "code",
   "execution_count": 83,
   "metadata": {},
   "outputs": [],
   "source": [
    "test_dataset = PokemonDataset(test_path, classes)\n",
    "test_dataloader = DataLoader(test_dataset, batch_size=1, shuffle=False)"
   ]
  },
  {
   "cell_type": "code",
   "execution_count": 84,
   "metadata": {},
   "outputs": [],
   "source": [
    "checkpoint = torch.load(test_model_path)\n",
    "model = checkpoint['model']\n",
    "model.load_state_dict(checkpoint['model_state_dict'])\n",
    "model = model.to(device)"
   ]
  },
  {
   "cell_type": "code",
   "execution_count": 80,
   "metadata": {},
   "outputs": [],
   "source": [
    "def test(model, sample):\n",
    "    model.eval()\n",
    "\n",
    "    with torch.no_grad():\n",
    "        input = sample['input'].float().to(device)\n",
    "        target = sample['target'].long().to(device) \n",
    "\n",
    "        pred = model(input)\n",
    "\n",
    "        top_val, top_idx = torch.topk(pred, 1)\n",
    "\n",
    "        num_correct = torch.sum(top_idx == target.view(-1, 1))\n",
    "\n",
    "    return num_correct.item()"
   ]
  },
  {
   "cell_type": "code",
   "execution_count": 85,
   "metadata": {},
   "outputs": [
    {
     "name": "stderr",
     "output_type": "stream",
     "text": [
      "Widget Javascript not detected.  It may not be installed or enabled properly.\n"
     ]
    },
    {
     "data": {
      "application/vnd.jupyter.widget-view+json": {
       "model_id": "b6e2befebab04fbe984fee6e9f26c4ff"
      }
     },
     "metadata": {},
     "output_type": "display_data"
    },
    {
     "name": "stdout",
     "output_type": "stream",
     "text": [
      "\n",
      "Total Accuracy:  0.9000000000000011\n"
     ]
    }
   ],
   "source": [
    "test_accu = 0.0\n",
    "\n",
    "# Iterate over the val_dataloader\n",
    "with tqdm(total=len(test_dataloader)) as pbar:\n",
    "    for idx, sample in enumerate(test_dataloader):\n",
    "        num_correct = test(model, sample)\n",
    "        test_accu += num_correct / len(test_dataloader)\n",
    "        pbar.update(1)\n",
    "\n",
    "print('Total Accuracy: ', test_accu)"
   ]
  }
 ],
 "metadata": {
  "accelerator": "GPU",
  "colab": {
   "collapsed_sections": [],
   "name": "[SAMPLE] Assignment 1 - Train - tutorial",
   "provenance": []
  },
  "kernelspec": {
   "display_name": "Python 3",
   "language": "python",
   "name": "python3"
  },
  "language_info": {
   "codemirror_mode": {
    "name": "ipython",
    "version": 3
   },
   "file_extension": ".py",
   "mimetype": "text/x-python",
   "name": "python",
   "nbconvert_exporter": "python",
   "pygments_lexer": "ipython3",
   "version": "3.6.9"
  },
  "widgets": {
   "application/vnd.jupyter.widget-state+json": {
    "059be3a6589d4d2b8b0f804f8ee6061a": {
     "model_module": "@jupyter-widgets/controls",
     "model_module_version": "1.5.0",
     "model_name": "ProgressStyleModel",
     "state": {
      "_model_module": "@jupyter-widgets/controls",
      "_model_module_version": "1.5.0",
      "_model_name": "ProgressStyleModel",
      "_view_count": null,
      "_view_module": "@jupyter-widgets/base",
      "_view_module_version": "1.2.0",
      "_view_name": "StyleView",
      "bar_color": null,
      "description_width": ""
     }
    },
    "2cb1d32d82814af3bed8c20e14d718b0": {
     "model_module": "@jupyter-widgets/controls",
     "model_module_version": "1.5.0",
     "model_name": "HTMLModel",
     "state": {
      "_dom_classes": [],
      "_model_module": "@jupyter-widgets/controls",
      "_model_module_version": "1.5.0",
      "_model_name": "HTMLModel",
      "_view_count": null,
      "_view_module": "@jupyter-widgets/controls",
      "_view_module_version": "1.5.0",
      "_view_name": "HTMLView",
      "description": "",
      "description_tooltip": null,
      "layout": "IPY_MODEL_a950e12c51c04d2a83b944bad35c6bf4",
      "placeholder": "​",
      "style": "IPY_MODEL_996af0b0098148ec9e18b6e358201cda",
      "value": " 0/10 [01:00&lt;?, ?it/s]"
     }
    },
    "41117e58edc3422d8a33439e6e524415": {
     "model_module": "@jupyter-widgets/base",
     "model_module_version": "1.2.0",
     "model_name": "LayoutModel",
     "state": {
      "_model_module": "@jupyter-widgets/base",
      "_model_module_version": "1.2.0",
      "_model_name": "LayoutModel",
      "_view_count": null,
      "_view_module": "@jupyter-widgets/base",
      "_view_module_version": "1.2.0",
      "_view_name": "LayoutView",
      "align_content": null,
      "align_items": null,
      "align_self": null,
      "border": null,
      "bottom": null,
      "display": null,
      "flex": null,
      "flex_flow": null,
      "grid_area": null,
      "grid_auto_columns": null,
      "grid_auto_flow": null,
      "grid_auto_rows": null,
      "grid_column": null,
      "grid_gap": null,
      "grid_row": null,
      "grid_template_areas": null,
      "grid_template_columns": null,
      "grid_template_rows": null,
      "height": null,
      "justify_content": null,
      "justify_items": null,
      "left": null,
      "margin": null,
      "max_height": null,
      "max_width": null,
      "min_height": null,
      "min_width": null,
      "object_fit": null,
      "object_position": null,
      "order": null,
      "overflow": null,
      "overflow_x": null,
      "overflow_y": null,
      "padding": null,
      "right": null,
      "top": null,
      "visibility": null,
      "width": null
     }
    },
    "4538250158794e71841b1770624a71d0": {
     "model_module": "@jupyter-widgets/controls",
     "model_module_version": "1.5.0",
     "model_name": "HBoxModel",
     "state": {
      "_dom_classes": [],
      "_model_module": "@jupyter-widgets/controls",
      "_model_module_version": "1.5.0",
      "_model_name": "HBoxModel",
      "_view_count": null,
      "_view_module": "@jupyter-widgets/controls",
      "_view_module_version": "1.5.0",
      "_view_name": "HBoxView",
      "box_style": "",
      "children": [
       "IPY_MODEL_a38c6bc7e66f4d2eb92ab718a37ecf58",
       "IPY_MODEL_b087b37fcf3f491f9cb07f1693ca793c",
       "IPY_MODEL_2cb1d32d82814af3bed8c20e14d718b0"
      ],
      "layout": "IPY_MODEL_b2497004d271463e8440d5cf64de9aaf"
     }
    },
    "87a86eb6066542c995a3af259f6046ed": {
     "model_module": "@jupyter-widgets/base",
     "model_module_version": "1.2.0",
     "model_name": "LayoutModel",
     "state": {
      "_model_module": "@jupyter-widgets/base",
      "_model_module_version": "1.2.0",
      "_model_name": "LayoutModel",
      "_view_count": null,
      "_view_module": "@jupyter-widgets/base",
      "_view_module_version": "1.2.0",
      "_view_name": "LayoutView",
      "align_content": null,
      "align_items": null,
      "align_self": null,
      "border": null,
      "bottom": null,
      "display": null,
      "flex": null,
      "flex_flow": null,
      "grid_area": null,
      "grid_auto_columns": null,
      "grid_auto_flow": null,
      "grid_auto_rows": null,
      "grid_column": null,
      "grid_gap": null,
      "grid_row": null,
      "grid_template_areas": null,
      "grid_template_columns": null,
      "grid_template_rows": null,
      "height": null,
      "justify_content": null,
      "justify_items": null,
      "left": null,
      "margin": null,
      "max_height": null,
      "max_width": null,
      "min_height": null,
      "min_width": null,
      "object_fit": null,
      "object_position": null,
      "order": null,
      "overflow": null,
      "overflow_x": null,
      "overflow_y": null,
      "padding": null,
      "right": null,
      "top": null,
      "visibility": null,
      "width": null
     }
    },
    "90768efe57c6457d84a5e0378d2eeed1": {
     "model_module": "@jupyter-widgets/base",
     "model_module_version": "1.2.0",
     "model_name": "LayoutModel",
     "state": {
      "_model_module": "@jupyter-widgets/base",
      "_model_module_version": "1.2.0",
      "_model_name": "LayoutModel",
      "_view_count": null,
      "_view_module": "@jupyter-widgets/base",
      "_view_module_version": "1.2.0",
      "_view_name": "LayoutView",
      "align_content": null,
      "align_items": null,
      "align_self": null,
      "border": null,
      "bottom": null,
      "display": null,
      "flex": null,
      "flex_flow": null,
      "grid_area": null,
      "grid_auto_columns": null,
      "grid_auto_flow": null,
      "grid_auto_rows": null,
      "grid_column": null,
      "grid_gap": null,
      "grid_row": null,
      "grid_template_areas": null,
      "grid_template_columns": null,
      "grid_template_rows": null,
      "height": null,
      "justify_content": null,
      "justify_items": null,
      "left": null,
      "margin": null,
      "max_height": null,
      "max_width": null,
      "min_height": null,
      "min_width": null,
      "object_fit": null,
      "object_position": null,
      "order": null,
      "overflow": null,
      "overflow_x": null,
      "overflow_y": null,
      "padding": null,
      "right": null,
      "top": null,
      "visibility": null,
      "width": null
     }
    },
    "9431c1b5cb4f4378bcf5da7df4887dca": {
     "model_module": "@jupyter-widgets/controls",
     "model_module_version": "1.5.0",
     "model_name": "DescriptionStyleModel",
     "state": {
      "_model_module": "@jupyter-widgets/controls",
      "_model_module_version": "1.5.0",
      "_model_name": "DescriptionStyleModel",
      "_view_count": null,
      "_view_module": "@jupyter-widgets/base",
      "_view_module_version": "1.2.0",
      "_view_name": "StyleView",
      "description_width": ""
     }
    },
    "996af0b0098148ec9e18b6e358201cda": {
     "model_module": "@jupyter-widgets/controls",
     "model_module_version": "1.5.0",
     "model_name": "DescriptionStyleModel",
     "state": {
      "_model_module": "@jupyter-widgets/controls",
      "_model_module_version": "1.5.0",
      "_model_name": "DescriptionStyleModel",
      "_view_count": null,
      "_view_module": "@jupyter-widgets/base",
      "_view_module_version": "1.2.0",
      "_view_name": "StyleView",
      "description_width": ""
     }
    },
    "a38c6bc7e66f4d2eb92ab718a37ecf58": {
     "model_module": "@jupyter-widgets/controls",
     "model_module_version": "1.5.0",
     "model_name": "HTMLModel",
     "state": {
      "_dom_classes": [],
      "_model_module": "@jupyter-widgets/controls",
      "_model_module_version": "1.5.0",
      "_model_name": "HTMLModel",
      "_view_count": null,
      "_view_module": "@jupyter-widgets/controls",
      "_view_module_version": "1.5.0",
      "_view_name": "HTMLView",
      "description": "",
      "description_tooltip": null,
      "layout": "IPY_MODEL_d4b60d2b7a744481a6b89b5cd52a8b22",
      "placeholder": "​",
      "style": "IPY_MODEL_ca4d4dc6b28949f7bcc9b47926385166",
      "value": "  0%"
     }
    },
    "a950e12c51c04d2a83b944bad35c6bf4": {
     "model_module": "@jupyter-widgets/base",
     "model_module_version": "1.2.0",
     "model_name": "LayoutModel",
     "state": {
      "_model_module": "@jupyter-widgets/base",
      "_model_module_version": "1.2.0",
      "_model_name": "LayoutModel",
      "_view_count": null,
      "_view_module": "@jupyter-widgets/base",
      "_view_module_version": "1.2.0",
      "_view_name": "LayoutView",
      "align_content": null,
      "align_items": null,
      "align_self": null,
      "border": null,
      "bottom": null,
      "display": null,
      "flex": null,
      "flex_flow": null,
      "grid_area": null,
      "grid_auto_columns": null,
      "grid_auto_flow": null,
      "grid_auto_rows": null,
      "grid_column": null,
      "grid_gap": null,
      "grid_row": null,
      "grid_template_areas": null,
      "grid_template_columns": null,
      "grid_template_rows": null,
      "height": null,
      "justify_content": null,
      "justify_items": null,
      "left": null,
      "margin": null,
      "max_height": null,
      "max_width": null,
      "min_height": null,
      "min_width": null,
      "object_fit": null,
      "object_position": null,
      "order": null,
      "overflow": null,
      "overflow_x": null,
      "overflow_y": null,
      "padding": null,
      "right": null,
      "top": null,
      "visibility": null,
      "width": null
     }
    },
    "b087b37fcf3f491f9cb07f1693ca793c": {
     "model_module": "@jupyter-widgets/controls",
     "model_module_version": "1.5.0",
     "model_name": "FloatProgressModel",
     "state": {
      "_dom_classes": [],
      "_model_module": "@jupyter-widgets/controls",
      "_model_module_version": "1.5.0",
      "_model_name": "FloatProgressModel",
      "_view_count": null,
      "_view_module": "@jupyter-widgets/controls",
      "_view_module_version": "1.5.0",
      "_view_name": "ProgressView",
      "bar_style": "danger",
      "description": "",
      "description_tooltip": null,
      "layout": "IPY_MODEL_41117e58edc3422d8a33439e6e524415",
      "max": 10,
      "min": 0,
      "orientation": "horizontal",
      "style": "IPY_MODEL_c5d0307c57e845e09b1ef3e1fcb0c316",
      "value": 0
     }
    },
    "b0dedf44c28d40bfa76ec7e64b932352": {
     "model_module": "@jupyter-widgets/base",
     "model_module_version": "1.2.0",
     "model_name": "LayoutModel",
     "state": {
      "_model_module": "@jupyter-widgets/base",
      "_model_module_version": "1.2.0",
      "_model_name": "LayoutModel",
      "_view_count": null,
      "_view_module": "@jupyter-widgets/base",
      "_view_module_version": "1.2.0",
      "_view_name": "LayoutView",
      "align_content": null,
      "align_items": null,
      "align_self": null,
      "border": null,
      "bottom": null,
      "display": null,
      "flex": null,
      "flex_flow": null,
      "grid_area": null,
      "grid_auto_columns": null,
      "grid_auto_flow": null,
      "grid_auto_rows": null,
      "grid_column": null,
      "grid_gap": null,
      "grid_row": null,
      "grid_template_areas": null,
      "grid_template_columns": null,
      "grid_template_rows": null,
      "height": null,
      "justify_content": null,
      "justify_items": null,
      "left": null,
      "margin": null,
      "max_height": null,
      "max_width": null,
      "min_height": null,
      "min_width": null,
      "object_fit": null,
      "object_position": null,
      "order": null,
      "overflow": null,
      "overflow_x": null,
      "overflow_y": null,
      "padding": null,
      "right": null,
      "top": null,
      "visibility": null,
      "width": null
     }
    },
    "b2497004d271463e8440d5cf64de9aaf": {
     "model_module": "@jupyter-widgets/base",
     "model_module_version": "1.2.0",
     "model_name": "LayoutModel",
     "state": {
      "_model_module": "@jupyter-widgets/base",
      "_model_module_version": "1.2.0",
      "_model_name": "LayoutModel",
      "_view_count": null,
      "_view_module": "@jupyter-widgets/base",
      "_view_module_version": "1.2.0",
      "_view_name": "LayoutView",
      "align_content": null,
      "align_items": null,
      "align_self": null,
      "border": null,
      "bottom": null,
      "display": null,
      "flex": null,
      "flex_flow": null,
      "grid_area": null,
      "grid_auto_columns": null,
      "grid_auto_flow": null,
      "grid_auto_rows": null,
      "grid_column": null,
      "grid_gap": null,
      "grid_row": null,
      "grid_template_areas": null,
      "grid_template_columns": null,
      "grid_template_rows": null,
      "height": null,
      "justify_content": null,
      "justify_items": null,
      "left": null,
      "margin": null,
      "max_height": null,
      "max_width": null,
      "min_height": null,
      "min_width": null,
      "object_fit": null,
      "object_position": null,
      "order": null,
      "overflow": null,
      "overflow_x": null,
      "overflow_y": null,
      "padding": null,
      "right": null,
      "top": null,
      "visibility": null,
      "width": null
     }
    },
    "c5d0307c57e845e09b1ef3e1fcb0c316": {
     "model_module": "@jupyter-widgets/controls",
     "model_module_version": "1.5.0",
     "model_name": "ProgressStyleModel",
     "state": {
      "_model_module": "@jupyter-widgets/controls",
      "_model_module_version": "1.5.0",
      "_model_name": "ProgressStyleModel",
      "_view_count": null,
      "_view_module": "@jupyter-widgets/base",
      "_view_module_version": "1.2.0",
      "_view_name": "StyleView",
      "bar_color": null,
      "description_width": ""
     }
    },
    "ca4d4dc6b28949f7bcc9b47926385166": {
     "model_module": "@jupyter-widgets/controls",
     "model_module_version": "1.5.0",
     "model_name": "DescriptionStyleModel",
     "state": {
      "_model_module": "@jupyter-widgets/controls",
      "_model_module_version": "1.5.0",
      "_model_name": "DescriptionStyleModel",
      "_view_count": null,
      "_view_module": "@jupyter-widgets/base",
      "_view_module_version": "1.2.0",
      "_view_name": "StyleView",
      "description_width": ""
     }
    },
    "cf4e2ecaf7764e9caffec0282610ed80": {
     "model_module": "@jupyter-widgets/controls",
     "model_module_version": "1.5.0",
     "model_name": "FloatProgressModel",
     "state": {
      "_dom_classes": [],
      "_model_module": "@jupyter-widgets/controls",
      "_model_module_version": "1.5.0",
      "_model_name": "FloatProgressModel",
      "_view_count": null,
      "_view_module": "@jupyter-widgets/controls",
      "_view_module_version": "1.5.0",
      "_view_name": "ProgressView",
      "bar_style": "danger",
      "description": "",
      "description_tooltip": null,
      "layout": "IPY_MODEL_e206587edf054702863dcebeb7aa3713",
      "max": 37,
      "min": 0,
      "orientation": "horizontal",
      "style": "IPY_MODEL_059be3a6589d4d2b8b0f804f8ee6061a",
      "value": 1
     }
    },
    "d23b2207b2e740708dad3732cd324899": {
     "model_module": "@jupyter-widgets/controls",
     "model_module_version": "1.5.0",
     "model_name": "DescriptionStyleModel",
     "state": {
      "_model_module": "@jupyter-widgets/controls",
      "_model_module_version": "1.5.0",
      "_model_name": "DescriptionStyleModel",
      "_view_count": null,
      "_view_module": "@jupyter-widgets/base",
      "_view_module_version": "1.2.0",
      "_view_name": "StyleView",
      "description_width": ""
     }
    },
    "d4b60d2b7a744481a6b89b5cd52a8b22": {
     "model_module": "@jupyter-widgets/base",
     "model_module_version": "1.2.0",
     "model_name": "LayoutModel",
     "state": {
      "_model_module": "@jupyter-widgets/base",
      "_model_module_version": "1.2.0",
      "_model_name": "LayoutModel",
      "_view_count": null,
      "_view_module": "@jupyter-widgets/base",
      "_view_module_version": "1.2.0",
      "_view_name": "LayoutView",
      "align_content": null,
      "align_items": null,
      "align_self": null,
      "border": null,
      "bottom": null,
      "display": null,
      "flex": null,
      "flex_flow": null,
      "grid_area": null,
      "grid_auto_columns": null,
      "grid_auto_flow": null,
      "grid_auto_rows": null,
      "grid_column": null,
      "grid_gap": null,
      "grid_row": null,
      "grid_template_areas": null,
      "grid_template_columns": null,
      "grid_template_rows": null,
      "height": null,
      "justify_content": null,
      "justify_items": null,
      "left": null,
      "margin": null,
      "max_height": null,
      "max_width": null,
      "min_height": null,
      "min_width": null,
      "object_fit": null,
      "object_position": null,
      "order": null,
      "overflow": null,
      "overflow_x": null,
      "overflow_y": null,
      "padding": null,
      "right": null,
      "top": null,
      "visibility": null,
      "width": null
     }
    },
    "d561b62998c64d76b3fecef7fbfc19b9": {
     "model_module": "@jupyter-widgets/controls",
     "model_module_version": "1.5.0",
     "model_name": "HTMLModel",
     "state": {
      "_dom_classes": [],
      "_model_module": "@jupyter-widgets/controls",
      "_model_module_version": "1.5.0",
      "_model_name": "HTMLModel",
      "_view_count": null,
      "_view_module": "@jupyter-widgets/controls",
      "_view_module_version": "1.5.0",
      "_view_name": "HTMLView",
      "description": "",
      "description_tooltip": null,
      "layout": "IPY_MODEL_87a86eb6066542c995a3af259f6046ed",
      "placeholder": "​",
      "style": "IPY_MODEL_d23b2207b2e740708dad3732cd324899",
      "value": " 1/37 [01:00&lt;26:33, 44.25s/it]"
     }
    },
    "d7a9bab4153449c781100b172c3631df": {
     "model_module": "@jupyter-widgets/controls",
     "model_module_version": "1.5.0",
     "model_name": "HBoxModel",
     "state": {
      "_dom_classes": [],
      "_model_module": "@jupyter-widgets/controls",
      "_model_module_version": "1.5.0",
      "_model_name": "HBoxModel",
      "_view_count": null,
      "_view_module": "@jupyter-widgets/controls",
      "_view_module_version": "1.5.0",
      "_view_name": "HBoxView",
      "box_style": "",
      "children": [
       "IPY_MODEL_e78a5edb637b43b1b18757d29e033bd9",
       "IPY_MODEL_cf4e2ecaf7764e9caffec0282610ed80",
       "IPY_MODEL_d561b62998c64d76b3fecef7fbfc19b9"
      ],
      "layout": "IPY_MODEL_b0dedf44c28d40bfa76ec7e64b932352"
     }
    },
    "e206587edf054702863dcebeb7aa3713": {
     "model_module": "@jupyter-widgets/base",
     "model_module_version": "1.2.0",
     "model_name": "LayoutModel",
     "state": {
      "_model_module": "@jupyter-widgets/base",
      "_model_module_version": "1.2.0",
      "_model_name": "LayoutModel",
      "_view_count": null,
      "_view_module": "@jupyter-widgets/base",
      "_view_module_version": "1.2.0",
      "_view_name": "LayoutView",
      "align_content": null,
      "align_items": null,
      "align_self": null,
      "border": null,
      "bottom": null,
      "display": null,
      "flex": null,
      "flex_flow": null,
      "grid_area": null,
      "grid_auto_columns": null,
      "grid_auto_flow": null,
      "grid_auto_rows": null,
      "grid_column": null,
      "grid_gap": null,
      "grid_row": null,
      "grid_template_areas": null,
      "grid_template_columns": null,
      "grid_template_rows": null,
      "height": null,
      "justify_content": null,
      "justify_items": null,
      "left": null,
      "margin": null,
      "max_height": null,
      "max_width": null,
      "min_height": null,
      "min_width": null,
      "object_fit": null,
      "object_position": null,
      "order": null,
      "overflow": null,
      "overflow_x": null,
      "overflow_y": null,
      "padding": null,
      "right": null,
      "top": null,
      "visibility": null,
      "width": null
     }
    },
    "e78a5edb637b43b1b18757d29e033bd9": {
     "model_module": "@jupyter-widgets/controls",
     "model_module_version": "1.5.0",
     "model_name": "HTMLModel",
     "state": {
      "_dom_classes": [],
      "_model_module": "@jupyter-widgets/controls",
      "_model_module_version": "1.5.0",
      "_model_name": "HTMLModel",
      "_view_count": null,
      "_view_module": "@jupyter-widgets/controls",
      "_view_module_version": "1.5.0",
      "_view_name": "HTMLView",
      "description": "",
      "description_tooltip": null,
      "layout": "IPY_MODEL_90768efe57c6457d84a5e0378d2eeed1",
      "placeholder": "​",
      "style": "IPY_MODEL_9431c1b5cb4f4378bcf5da7df4887dca",
      "value": "  3%"
     }
    }
   }
  }
 },
 "nbformat": 4,
 "nbformat_minor": 1
}
